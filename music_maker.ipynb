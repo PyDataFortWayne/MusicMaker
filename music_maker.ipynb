{
 "cells": [
  {
   "cell_type": "markdown",
   "metadata": {},
   "source": [
    "- Need to find LARGE sample of datapoints\n",
    "  - Using MIDI files - http://www.piano-midi.de\n",
    "- Classical Music (no lyrics - most in public domain - high quality recordings)\n",
    "- Solo Music only - for simplicity\n",
    "- Rewriting http://www.hexahedria.com/2015/08/03/composing-music-with-recurrent-neural-networks/ https://github.com/PyDataFortWayne/biaxial-rnn-music-composition\n",
    "- Generate new works in the style of a certain composer\n",
    "- Need Amazon instance?\n",
    "- Use updated NN package (TensorFlow2 or PyTorch)\n",
    "  - Research possible replacement package\n",
    "- Train with Saloon music? (Separate and together!)\n",
    "\n",
    "\n",
    "Next Steps:\n",
    "- Research possible replacement package (mido for MIDI and ...)\n",
    "    \n",
    "- Review source code \n",
    "- Start coding!\n",
    "- Documentation is for winners!\n",
    "- ...\n",
    "- Profit!\n",
    "\n",
    "\n",
    "Composers:\n",
    "- Mozart\n",
    "- Mozart + Saloon mashup! (Stretch Goal!)\n",
    "\n",
    "\n",
    "\n",
    "\n",
    "\n",
    "*Goals:*\n",
    "Presentation: March 2020\n",
    "- August last week = Decide on replacement package\n",
    "- September 1 = Import and Process MIDI files\n",
    "- Sep 2 = PyData\n",
    "- Sep 3 = Translate Code from Theano to PyTorch\n",
    "- Sep 4 = Translate code\n",
    "- Oct 1 = Translate Code\n",
    "- Oct 2 = Translate code\n",
    "- Oct 3 = Train Model (local)\n",
    "- Oct 4 = PyData\n",
    "- Nov 1 = Validate Model (local)\n",
    "- Nov 1 = Validate Model / Tweaks\n",
    "- Nov 2-3 = AWS Train\n",
    "- December 1-4 = Writeup / Cleanup Presentation\n",
    "\n",
    "\n",
    "\n",
    "**Presentation:**\n",
    "- Music Theory for Dummies (a.k.a. Grant)\n",
    "- MIDI file structure / format\n",
    "- How / which model used"
   ]
  },
  {
   "cell_type": "code",
   "execution_count": 4,
   "metadata": {},
   "outputs": [],
   "source": [
    "import mido # MIDI file processing with mido package: https://pypi.org/project/mido/\n",
    "import pandas as pd\n",
    "import numpy as np\n",
    "import random"
   ]
  },
  {
   "cell_type": "code",
   "execution_count": 2,
   "metadata": {},
   "outputs": [
    {
     "data": {
      "text/plain": [
       "<midi file 'bach_846.mid' type 1, 11 tracks, 3164 messages>"
      ]
     },
     "execution_count": 2,
     "metadata": {},
     "output_type": "execute_result"
    }
   ],
   "source": [
    "x = mido.MidiFile(filename='bach_846.mid')\n",
    "x"
   ]
  },
  {
   "cell_type": "code",
   "execution_count": 3,
   "metadata": {},
   "outputs": [],
   "source": [
    "p = x.play()"
   ]
  },
  {
   "cell_type": "code",
   "execution_count": 53,
   "metadata": {},
   "outputs": [],
   "source": [
    "note = p.__next__()"
   ]
  },
  {
   "cell_type": "code",
   "execution_count": 105,
   "metadata": {},
   "outputs": [
    {
     "data": {
      "text/plain": [
       "'bdca426d104a26ac9dcb070447587523'"
      ]
     },
     "execution_count": 105,
     "metadata": {},
     "output_type": "execute_result"
    }
   ],
   "source": [
    "mid.tracks[1][6].text"
   ]
  },
  {
   "cell_type": "code",
   "execution_count": 101,
   "metadata": {},
   "outputs": [],
   "source": [
    "mid = mido.MidiFile('bach_846.mid')"
   ]
  },
  {
   "cell_type": "code",
   "execution_count": 86,
   "metadata": {},
   "outputs": [
    {
     "name": "stdout",
     "output_type": "stream",
     "text": [
      "<meta message midi_port port=0 time=0>\n",
      "<meta message track_name name='Piano right' time=0>\n",
      "program_change channel=0 program=0 time=0\n",
      "control_change channel=0 control=7 value=100 time=0\n",
      "control_change channel=0 control=10 value=64 time=0\n",
      "control_change channel=0 control=91 value=127 time=0\n",
      "<meta message text text='bdca426d104a26ac9dcb070447587523' time=0>\n",
      "note_on channel=0 note=67 velocity=56 time=241\n",
      "note_on channel=0 note=67 velocity=0 time=120\n",
      "note_on channel=0 note=72 velocity=60 time=0\n",
      "note_on channel=0 note=72 velocity=0 time=120\n",
      "note_on channel=0 note=76 velocity=63 time=0\n",
      "note_on channel=0 note=76 velocity=0 time=108\n",
      "note_on channel=0 note=67 velocity=50 time=12\n",
      "note_on channel=0 note=67 velocity=0 time=120\n",
      "note_on channel=0 note=72 velocity=47 time=0\n",
      "note_on channel=0 note=72 velocity=0 time=120\n",
      "note_on channel=0 note=76 velocity=47 time=0\n",
      "note_on channel=0 note=76 velocity=0 time=120\n",
      "note_on channel=0 note=67 velocity=56 time=240\n",
      "note_on channel=0 note=67 velocity=0 time=120\n",
      "note_on channel=0 note=72 velocity=60 time=0\n",
      "note_on channel=0 note=72 velocity=0 time=120\n",
      "note_on channel=0 note=76 velocity=62 time=0\n",
      "note_on channel=0 note=76 velocity=0 time=108\n",
      "note_on channel=0 note=67 velocity=50 time=12\n",
      "note_on channel=0 note=67 velocity=0 time=120\n",
      "note_on channel=0 note=72 velocity=48 time=0\n",
      "note_on channel=0 note=72 velocity=0 time=120\n",
      "note_on channel=0 note=76 velocity=48 time=0\n",
      "control_change channel=0 control=91 value=127 time=119\n",
      "note_on channel=0 note=76 velocity=0 time=1\n",
      "note_on channel=0 note=69 velocity=56 time=240\n",
      "note_on channel=0 note=69 velocity=0 time=120\n",
      "note_on channel=0 note=74 velocity=60 time=0\n",
      "note_on channel=0 note=74 velocity=0 time=120\n",
      "note_on channel=0 note=77 velocity=65 time=0\n",
      "note_on channel=0 note=77 velocity=0 time=108\n",
      "note_on channel=0 note=69 velocity=51 time=12\n",
      "note_on channel=0 note=69 velocity=0 time=120\n",
      "note_on channel=0 note=74 velocity=50 time=0\n",
      "note_on channel=0 note=74 velocity=0 time=120\n",
      "note_on channel=0 note=77 velocity=50 time=0\n",
      "note_on channel=0 note=77 velocity=0 time=120\n",
      "note_on channel=0 note=69 velocity=58 time=240\n",
      "note_on channel=0 note=69 velocity=0 time=120\n",
      "note_on channel=0 note=74 velocity=60 time=0\n",
      "note_on channel=0 note=74 velocity=0 time=120\n",
      "note_on channel=0 note=77 velocity=65 time=0\n",
      "note_on channel=0 note=77 velocity=0 time=108\n",
      "note_on channel=0 note=69 velocity=52 time=12\n",
      "note_on channel=0 note=69 velocity=0 time=120\n",
      "note_on channel=0 note=74 velocity=50 time=0\n",
      "note_on channel=0 note=74 velocity=0 time=120\n",
      "note_on channel=0 note=77 velocity=50 time=0\n",
      "control_change channel=0 control=91 value=127 time=119\n",
      "note_on channel=0 note=77 velocity=0 time=1\n",
      "note_on channel=0 note=67 velocity=56 time=240\n",
      "note_on channel=0 note=67 velocity=0 time=120\n",
      "note_on channel=0 note=74 velocity=60 time=0\n",
      "note_on channel=0 note=74 velocity=0 time=120\n",
      "note_on channel=0 note=77 velocity=65 time=0\n",
      "note_on channel=0 note=77 velocity=0 time=108\n",
      "note_on channel=0 note=67 velocity=51 time=12\n",
      "note_on channel=0 note=67 velocity=0 time=120\n",
      "note_on channel=0 note=74 velocity=50 time=0\n",
      "note_on channel=0 note=74 velocity=0 time=120\n",
      "note_on channel=0 note=77 velocity=50 time=0\n",
      "note_on channel=0 note=77 velocity=0 time=120\n",
      "note_on channel=0 note=67 velocity=56 time=240\n",
      "note_on channel=0 note=67 velocity=0 time=120\n",
      "note_on channel=0 note=74 velocity=60 time=0\n",
      "note_on channel=0 note=74 velocity=0 time=120\n",
      "note_on channel=0 note=77 velocity=65 time=0\n",
      "note_on channel=0 note=77 velocity=0 time=108\n",
      "note_on channel=0 note=67 velocity=52 time=12\n",
      "note_on channel=0 note=67 velocity=0 time=120\n",
      "note_on channel=0 note=74 velocity=50 time=0\n",
      "note_on channel=0 note=74 velocity=0 time=120\n",
      "note_on channel=0 note=77 velocity=50 time=0\n",
      "control_change channel=0 control=91 value=127 time=119\n",
      "note_on channel=0 note=77 velocity=0 time=1\n",
      "note_on channel=0 note=67 velocity=53 time=240\n",
      "note_on channel=0 note=67 velocity=0 time=120\n",
      "note_on channel=0 note=72 velocity=55 time=0\n",
      "note_on channel=0 note=72 velocity=0 time=120\n",
      "note_on channel=0 note=76 velocity=60 time=0\n",
      "note_on channel=0 note=76 velocity=0 time=108\n",
      "note_on channel=0 note=67 velocity=50 time=12\n",
      "note_on channel=0 note=67 velocity=0 time=120\n",
      "note_on channel=0 note=72 velocity=47 time=0\n",
      "note_on channel=0 note=72 velocity=0 time=120\n",
      "note_on channel=0 note=76 velocity=47 time=0\n",
      "note_on channel=0 note=76 velocity=0 time=120\n",
      "note_on channel=0 note=67 velocity=55 time=240\n",
      "note_on channel=0 note=67 velocity=0 time=120\n",
      "note_on channel=0 note=72 velocity=57 time=0\n",
      "note_on channel=0 note=72 velocity=0 time=120\n",
      "note_on channel=0 note=76 velocity=61 time=0\n",
      "note_on channel=0 note=76 velocity=0 time=108\n"
     ]
    }
   ],
   "source": [
    "for x in mid.tracks[1][0:100]:\n",
    "    print(x)"
   ]
  },
  {
   "cell_type": "code",
   "execution_count": 85,
   "metadata": {},
   "outputs": [
    {
     "data": {
      "text/plain": [
       "<midi track 'Piano right' 869 messages>"
      ]
     },
     "execution_count": 85,
     "metadata": {},
     "output_type": "execute_result"
    }
   ],
   "source": [
    "mid.tracks[1]"
   ]
  },
  {
   "cell_type": "markdown",
   "metadata": {},
   "source": [
    "NOTES:\n",
    "\n",
    "Timing in MIDI files is centered around ticks and beats. A beat is the same as a quarter note. Beats are divided into ticks, the smallest unit of time in MIDI.\n",
    "\n",
    "\n",
    "inside a track, it is delta time in ticks. This must be an integer.\n",
    "\n",
    "Unlike music, tempo in MIDI is not given as beats per minute, but rather in microseconds per beat.\n",
    "The default tempo is 500000 microseconds per beat, which is 120 beats per minute.\n",
    "\n",
    "MIDI is a binary protocol. Each each message is encoded as a status byte followed by up to three data bytes\n",
    "\n"
   ]
  },
  {
   "cell_type": "code",
   "execution_count": 69,
   "metadata": {},
   "outputs": [],
   "source": [
    "# http://www.piano-midi.de/midis/mozart/mz_311_1.mid\n",
    "f = 'mz_311_1_format0.mid'"
   ]
  },
  {
   "cell_type": "code",
   "execution_count": 91,
   "metadata": {},
   "outputs": [
    {
     "data": {
      "text/plain": [
       "480"
      ]
     },
     "execution_count": 91,
     "metadata": {},
     "output_type": "execute_result"
    }
   ],
   "source": [
    "mid = mido.MidiFile(f)"
   ]
  },
  {
   "cell_type": "code",
   "execution_count": 110,
   "metadata": {},
   "outputs": [],
   "source": [
    "upperBound = 102\n",
    "lowerBound = 24\n",
    "\n",
    "def midiToNoteMatrix(midifile):\n",
    "    mid = mido.MidiFile(midifile)\n",
    "    \n",
    "    time_left = [track[0].time for track in mid.tracks]\n",
    "    positions = [0 for track in mid.tracks]\n",
    "    \n",
    "    state_matrix = []\n",
    "    span = upperBound - lowerBound\n",
    "    time = 0\n",
    "    \n",
    "    state = [[0,0] for x in range(span)]\n",
    "    state_matrix.append(state)\n",
    "    \n",
    "    while True:\n",
    "        if time % (mid.ticks_per_beat / 4) == (mid.ticks_per_beat / 8):\n",
    "            oldstate = state\n",
    "            state = [[oldstate[x][0],0] for x in range(span)]\n",
    "            state_matrix.append(state)\n",
    "            \n",
    "        for i in range(len(time_left)):\n",
    "            while time_left[i] == 0:\n",
    "                track = mid.tracks[i]\n",
    "                pos = positions[i]\n",
    "                        \n",
    "                event = track[pos]\n",
    "                #fix NoteEvent missing\n",
    "                if event.type in ['note_on', 'note_off']:\n",
    "                    if (event.note < lowerBound) or (event.note >= upperBound):\n",
    "                        pass\n",
    "                        # print \"Note {} at time {} out of bounds (ignoring)\".format(evt.pitch, time)\n",
    "                    else:\n",
    "                        if event.type == 'note_off' or event.velocity == 0:\n",
    "                            state[event.note-lowerBound] = [0, 0]\n",
    "                        else:\n",
    "                            state[event.note-lowerBound] = [1, 1]\n",
    "                elif event.type == 'time_signature':\n",
    "                    if event.numerator not in (2, 4):\n",
    "                        # We don't want to worry about non-4 time signatures. Bail early!\n",
    "                        # print \"Found time signature event {}. Bailing!\".format(evt)\n",
    "                        return state_matrix\n",
    "\n",
    "                try:\n",
    "                    time_left[i] = track[pos + 1].time\n",
    "                    positions[i] += 1\n",
    "                except IndexError:\n",
    "                    time_left[i] = None\n",
    "\n",
    "            if time_left[i] is not None:\n",
    "                time_left[i] -= 1\n",
    "\n",
    "        if all(t is None for t in time_left):\n",
    "            break\n",
    "\n",
    "        time += 1\n",
    "\n",
    "    return state_matrix\n"
   ]
  },
  {
   "cell_type": "code",
   "execution_count": 112,
   "metadata": {},
   "outputs": [],
   "source": [
    "sm = midiToNoteMatrix(f)"
   ]
  },
  {
   "cell_type": "code",
   "execution_count": 126,
   "metadata": {},
   "outputs": [],
   "source": [
    "def noteStateMatrixToMidi(state_matrix, name=\"example\"):\n",
    "    state_matrix = np.asarray(state_matrix)\n",
    "    mid = mido.MidiFile()\n",
    "    track = mido.MidiTrack()\n",
    "    mid.tracks.append(track)\n",
    "    \n",
    "    span = upperBound-lowerBound\n",
    "    tickscale = 120  # beats per minute\n",
    "    \n",
    "    last_command_time = 0\n",
    "    prev_state = [[0,0] for x in range(span)]\n",
    "    for time, state in enumerate(state_matrix + [prev_state[:]]):  \n",
    "        note_on_list = []\n",
    "        note_off_list = []\n",
    "        for i in range(span):\n",
    "            note = state[i]\n",
    "            prev_note = prev_state[i]\n",
    "            # was there a preceding note?\n",
    "            if prev_note[0] == 1:\n",
    "                # the note is now off\n",
    "                if note[0] == 0:\n",
    "                    note_off_list.append(i)\n",
    "                # new note \n",
    "                elif note[1] == 1:\n",
    "                    note_off_list.append(i)\n",
    "                    note_on_list.append(i)\n",
    "            # no preceding note, but a note is now played\n",
    "            elif note[0] == 1:\n",
    "                note_on_list.append(i)\n",
    "        for note in note_off_list:\n",
    "            track.append(mido.Message('note_off', time=(time-last_command_time)*tickscale, note=note+lowerBound))\n",
    "            last_command_time = time\n",
    "        for note in note_on_list:\n",
    "            track.append(mido.Message('note_on', time=(time-last_command_time)*tickscale, velocity=40, note=note+lowerBound))\n",
    "            last_command_time = time\n",
    "            \n",
    "        prev_state = state\n",
    "    \n",
    "    eot = mido.MetaMessage('end_of_track', time=1)\n",
    "    track.append(eot)\n",
    "\n",
    "    mid.save(f'{name}.mid')\n"
   ]
  },
  {
   "cell_type": "code",
   "execution_count": 127,
   "metadata": {},
   "outputs": [],
   "source": [
    "noteStateMatrixToMidi(sm)"
   ]
  },
  {
   "cell_type": "code",
   "execution_count": 1,
   "metadata": {},
   "outputs": [],
   "source": [
    "def buildContext(state):\n",
    "    \"\"\" Determine which notes are being played within a given state\"\"\"\n",
    "    context = [0]*12\n",
    "    for note, notestate in enumerate(state):\n",
    "        if notestate[0] == 1:\n",
    "            pitchclass = (note + lowerBound) % 12  # Which note to play\n",
    "            context[pitchclass] += 1\n",
    "    return context"
   ]
  },
  {
   "cell_type": "code",
   "execution_count": 2,
   "metadata": {},
   "outputs": [],
   "source": [
    "def buildBeat(time):\n",
    "    \"\"\"Build the time signature\"\"\"\n",
    "    return [2*x-1 for x in [time%2, (time//2)%2, (time//4)%2, (time//8)%2]]"
   ]
  },
  {
   "cell_type": "code",
   "execution_count": 3,
   "metadata": {},
   "outputs": [],
   "source": [
    "def getListDefault(lst, i, default):\n",
    "    \"\"\" Get a list value at index or default\"\"\"\n",
    "    try:\n",
    "        return lst[i]\n",
    "    except IndexError:\n",
    "        return default\n",
    "\n",
    "\n",
    "def noteInputForm(note, state, context, beat):\n",
    "    \"\"\" Convert a note to the input format\"\"\"\n",
    "    # Determine which note is being \"played\"\n",
    "    pitchclass = (note + lowerBound) % 12\n",
    "    \n",
    "    # Generate list with bits specifying the notes being played\n",
    "    part_pitchclass = [int(i == pitchclass) for i in range(12)]\n",
    "    \n",
    "    # Concatenate the note states for the previous vicinity\n",
    "    part_prev_vicinity = list(itertools.chain.from_iterable((getListDefault(state, note+i, [0,0]) for i in range(-12, 13))))\n",
    "\n",
    "    part_context = context[pitchclass:] + context[:pitchclass]\n",
    "\n",
    "    # Return the giant list for input\n",
    "    return [note] + part_pitchclass + part_prev_vicinity + part_context + beat + [0]\n",
    "\n",
    "def noteStateSingleToInputForm(state,time):\n",
    "    beat = buildBeat(time)\n",
    "    context = buildContext(state)\n",
    "    return [noteInputForm(note, state, context, beat) for note in range(len(state))]\n",
    "\n",
    "def noteStateMatrixToInputForm(statematrix):\n",
    "    inputform = [noteStateSingleToInputForm(state,time) for time,state in enumerate(statematrix) ]\n",
    "    return inputform"
   ]
  },
  {
   "cell_type": "markdown",
   "metadata": {},
   "source": [
    "# MODEL STUFF HERE"
   ]
  },
  {
   "cell_type": "code",
   "execution_count": 6,
   "metadata": {},
   "outputs": [],
   "source": [
    "batch_width = 10 # number of sequences in a batch\n",
    "batch_len = 16*8 # length of each sequence\n",
    "division_len = 16 # interval between possible start locations\n",
    "\n",
    "def loadPieces(dirpath):\n",
    "\n",
    "    pieces = {}\n",
    "\n",
    "    for fname in os.listdir(dirpath):\n",
    "        if fname[-4:] not in ('.mid','.MID'):\n",
    "            continue\n",
    "\n",
    "        name = fname[:-4]\n",
    "\n",
    "        outMatrix = midiToNoteStateMatrix(os.path.join(dirpath, fname))\n",
    "        if len(outMatrix) < batch_len:\n",
    "            continue\n",
    "\n",
    "        pieces[name] = outMatrix\n",
    "        print(f\"Loaded {name}\")\n",
    "\n",
    "    return pieces\n",
    "\n",
    "def getPieceSegment(pieces):\n",
    "    piece_output = random.choice(pieces.values())\n",
    "    start = random.randrange(0,len(piece_output)-batch_len,division_len)\n",
    "    # print \"Range is {} {} {} -> {}\".format(0,len(piece_output)-batch_len,division_len, start)\n",
    "\n",
    "    seg_out = piece_output[start:start+batch_len]\n",
    "    seg_in = noteStateMatrixToInputForm(seg_out)\n",
    "\n",
    "    return seg_in, seg_out\n",
    "\n",
    "def getPieceBatch(pieces):\n",
    "    i,o = zip(*[getPieceSegment(pieces) for _ in range(batch_width)])\n",
    "    return numpy.array(i), numpy.array(o)\n",
    "\n",
    "def trainPiece(model,pieces,epochs,start=0):\n",
    "    for i in range(start,start+epochs):\n",
    "        error = model.update_fun(*getPieceBatch(pieces))\n",
    "        if i % 100 == 0:\n",
    "            print(f\"epoch {i}, error={error}\")\n",
    "        if i % 500 == 0 or (i % 100 == 0 and i < 1000):\n",
    "            xIpt, xOpt = map(numpy.array, getPieceSegment(pieces))\n",
    "            noteStateMatrixToMidi(numpy.concatenate((numpy.expand_dims(xOpt[0], 0), model.predict_fun(batch_len, 1, xIpt[0])), axis=0),'output/sample{}'.format(i))\n",
    "            pickle.dump(model.learned_config,open(f'output/params{i}.p', 'wb'))"
   ]
  },
  {
   "cell_type": "markdown",
   "metadata": {},
   "source": [
    "# Recurrent Neural Network\n",
    "- What is it?\n",
    "- Why is it used?\n",
    "- How does it work?\n"
   ]
  }
 ],
 "metadata": {
  "kernelspec": {
   "display_name": "Python 3",
   "language": "python",
   "name": "python3"
  },
  "language_info": {
   "codemirror_mode": {
    "name": "ipython",
    "version": 3
   },
   "file_extension": ".py",
   "mimetype": "text/x-python",
   "name": "python",
   "nbconvert_exporter": "python",
   "pygments_lexer": "ipython3",
   "version": "3.7.3"
  }
 },
 "nbformat": 4,
 "nbformat_minor": 2
}
